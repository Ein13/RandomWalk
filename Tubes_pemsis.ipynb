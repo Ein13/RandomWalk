{
  "nbformat": 4,
  "nbformat_minor": 0,
  "metadata": {
    "colab": {
      "name": "Tubes pemsis",
      "provenance": [],
      "collapsed_sections": []
    },
    "kernelspec": {
      "name": "python3",
      "display_name": "Python 3"
    }
  },
  "cells": [
    {
      "cell_type": "markdown",
      "metadata": {
        "id": "BVMJ9rE1-97A",
        "colab_type": "text"
      },
      "source": [
        "\n",
        "\n",
        "---\n",
        "\n",
        "Nama Anggota Kelompok :\n",
        "\n",
        "\n",
        "1.\tAzril Nurfaizi A. (1301174647)\n",
        "2.\tFernanda Januar Pratama (1301170756)\n",
        "3.\tAngel Metanosa Afinda (1301174639)\n",
        "\n",
        "\n",
        "---\n",
        "\n",
        "Kelas : IF – 41 – 11\n",
        "\n",
        "Tema : Implementasi Random Walk pada Proses Penyebaran Suatu Penyakit atau Virus\n",
        "\n",
        "---\n",
        "\n"
      ]
    },
    {
      "cell_type": "code",
      "metadata": {
        "id": "wXLXJqHl_C8B",
        "colab_type": "code",
        "colab": {}
      },
      "source": [
        " #Import library\n",
        "import numpy as np\n",
        "import matplotlib.pyplot as plt\n",
        "import seaborn as sns\n",
        "import plotly.graph_objects as go"
      ],
      "execution_count": 0,
      "outputs": []
    },
    {
      "cell_type": "code",
      "metadata": {
        "id": "fIdwoG6Y02X5",
        "colab_type": "code",
        "colab": {}
      },
      "source": [
        "#Simulation space\n",
        "x_min = 0\n",
        "x_max = 20\n",
        "y_min = 0\n",
        "y_max = 20\n",
        "x_range = x_max - x_min\n",
        "y_range = y_max - y_min"
      ],
      "execution_count": 0,
      "outputs": []
    },
    {
      "cell_type": "code",
      "metadata": {
        "id": "DmaM03rd03qA",
        "colab_type": "code",
        "colab": {}
      },
      "source": [
        "# Variable Initialization\n",
        "\n",
        "# Penghitung hari\n",
        "days = 0\n",
        "\n",
        "# Jumlah individu\n",
        "n_individu = 200\n",
        "\n",
        "# Rasio individu yang terinfeksi \n",
        "ratio = 0.05\n",
        "\n",
        "# Jumlah individu yang terinfeksi virus\n",
        "n_infected = int(n_individu * ratio)\n",
        "\n",
        "#W aktu pemulihan\n",
        "healing_days = 10\n",
        "\n",
        "# Probabilitas individu dapat bergerak\n",
        "movement_prob = 0.8"
      ],
      "execution_count": 0,
      "outputs": []
    },
    {
      "cell_type": "code",
      "metadata": {
        "id": "C3BDv61t1bac",
        "colab_type": "code",
        "colab": {}
      },
      "source": [
        "# List variable initialization\n",
        "\n",
        "# Posisi masing-masing individu\n",
        "idv = {i: [np.random.randint(0,20), np.random.randint(0,20)] for i in range(n_individu)}\n",
        "\n",
        "# Status kesehatan\n",
        "# Inisialisasi list status kesehatan dengan 0\n",
        "health_stat = [0 for i in range (n_individu)]\n",
        "i = 0\n",
        "# Selama i kurang dari jumlah individu yang terinfeksi\n",
        "while i < n_infected:\n",
        "  # Membangkitkan bilangan random diantara 0 sampai banyak individu\n",
        "  rand = np.random.randint(0,(n_individu))\n",
        "  # Jika status kesehatan ke i tidak sama dengan 1 maka\n",
        "  if health_stat[rand] != 1:\n",
        "    # Status kesehatan ke i diisi dengan 1\n",
        "    health_stat[rand] = 1\n",
        "    # Menambah nilai i dengan 1\n",
        "    i+=1\n",
        "\n",
        "# Status imun\n",
        "# Inisialisasi list status imune dengan angka 0 sebanyak individu yang ada\n",
        "immune_stat = [0 for i in range (n_individu)]\n",
        "\n",
        "# Waktu terinfeksi\n",
        "# Inisialisasi list waktu terinfeksi dengan angka 0 sebanyak individu yang ada\n",
        "infected_counter = [0 for i in range (n_individu)]\n",
        "\n",
        "# Lama waktu pandemi\n",
        "# List yg nanti akan berisi dengan hari pandemi\n",
        "time = []\n",
        "\n",
        "# Individu terinfeksi perhari\n",
        "# List yg nanti akan berisi dengan jumlah individu terinfeksi setiap harinya\n",
        "positive_idv = []"
      ],
      "execution_count": 0,
      "outputs": []
    },
    {
      "cell_type": "code",
      "metadata": {
        "id": "3sF4Es-vM9Js",
        "colab_type": "code",
        "outputId": "a7cfe7a4-05c7-4b4a-efde-5f715650bea8",
        "colab": {
          "base_uri": "https://localhost:8080/",
          "height": 54
        }
      },
      "source": [
        "print(idv)"
      ],
      "execution_count": 1374,
      "outputs": [
        {
          "output_type": "stream",
          "text": [
            "{0: [8, 14], 1: [4, 12], 2: [18, 15], 3: [13, 3], 4: [1, 14], 5: [18, 1], 6: [10, 7], 7: [16, 4], 8: [6, 14], 9: [1, 19], 10: [0, 4], 11: [2, 6], 12: [17, 7], 13: [9, 0], 14: [12, 10], 15: [2, 16], 16: [11, 12], 17: [6, 7], 18: [9, 5], 19: [10, 0], 20: [8, 17], 21: [19, 14], 22: [3, 4], 23: [4, 13], 24: [4, 18], 25: [1, 8], 26: [19, 10], 27: [0, 19], 28: [17, 16], 29: [2, 12], 30: [19, 8], 31: [12, 0], 32: [5, 4], 33: [19, 9], 34: [6, 18], 35: [6, 14], 36: [11, 10], 37: [7, 15], 38: [2, 15], 39: [1, 7], 40: [8, 3], 41: [9, 0], 42: [16, 8], 43: [7, 0], 44: [9, 1], 45: [17, 13], 46: [3, 19], 47: [8, 2], 48: [10, 14], 49: [7, 1], 50: [17, 1], 51: [4, 15], 52: [5, 7], 53: [6, 5], 54: [10, 16], 55: [19, 6], 56: [12, 9], 57: [17, 16], 58: [5, 16], 59: [14, 12], 60: [5, 17], 61: [12, 5], 62: [12, 17], 63: [2, 19], 64: [3, 0], 65: [5, 6], 66: [15, 7], 67: [0, 19], 68: [10, 19], 69: [16, 1], 70: [12, 0], 71: [4, 9], 72: [12, 17], 73: [19, 9], 74: [9, 17], 75: [1, 17], 76: [5, 19], 77: [5, 4], 78: [3, 8], 79: [1, 15], 80: [9, 19], 81: [17, 10], 82: [5, 4], 83: [16, 11], 84: [16, 5], 85: [1, 16], 86: [11, 10], 87: [15, 1], 88: [8, 4], 89: [3, 17], 90: [10, 8], 91: [11, 13], 92: [19, 13], 93: [7, 10], 94: [17, 17], 95: [8, 4], 96: [19, 15], 97: [5, 1], 98: [3, 2], 99: [10, 18], 100: [12, 11], 101: [14, 15], 102: [6, 3], 103: [17, 3], 104: [13, 14], 105: [6, 8], 106: [19, 19], 107: [13, 5], 108: [5, 17], 109: [0, 6], 110: [17, 4], 111: [5, 3], 112: [8, 18], 113: [1, 3], 114: [4, 15], 115: [19, 6], 116: [12, 9], 117: [0, 16], 118: [19, 9], 119: [2, 12], 120: [7, 18], 121: [3, 0], 122: [17, 18], 123: [19, 19], 124: [0, 3], 125: [19, 11], 126: [1, 18], 127: [2, 19], 128: [18, 10], 129: [5, 4], 130: [2, 7], 131: [7, 9], 132: [1, 17], 133: [13, 3], 134: [12, 14], 135: [7, 4], 136: [2, 7], 137: [12, 7], 138: [13, 18], 139: [6, 15], 140: [2, 10], 141: [19, 2], 142: [14, 2], 143: [19, 15], 144: [3, 13], 145: [6, 1], 146: [4, 11], 147: [11, 19], 148: [14, 1], 149: [1, 18], 150: [5, 7], 151: [16, 19], 152: [1, 13], 153: [10, 18], 154: [13, 5], 155: [1, 14], 156: [7, 14], 157: [18, 8], 158: [8, 3], 159: [16, 12], 160: [11, 6], 161: [1, 8], 162: [8, 3], 163: [16, 14], 164: [5, 4], 165: [0, 8], 166: [19, 10], 167: [3, 11], 168: [3, 9], 169: [0, 17], 170: [9, 7], 171: [8, 3], 172: [19, 18], 173: [9, 4], 174: [17, 0], 175: [17, 15], 176: [18, 0], 177: [6, 4], 178: [13, 9], 179: [8, 15], 180: [16, 8], 181: [7, 4], 182: [3, 6], 183: [10, 19], 184: [13, 15], 185: [0, 8], 186: [11, 18], 187: [4, 2], 188: [13, 15], 189: [16, 15], 190: [5, 10], 191: [11, 9], 192: [15, 12], 193: [9, 1], 194: [6, 11], 195: [15, 16], 196: [16, 18], 197: [16, 13], 198: [5, 13], 199: [14, 18]}\n"
          ],
          "name": "stdout"
        }
      ]
    },
    {
      "cell_type": "code",
      "metadata": {
        "id": "AVjYcnuuyll-",
        "colab_type": "code",
        "outputId": "18c30367-7451-43bc-d5d9-18bd8dc3dfd4",
        "colab": {
          "base_uri": "https://localhost:8080/",
          "height": 54
        }
      },
      "source": [
        "print(health_stat)"
      ],
      "execution_count": 1375,
      "outputs": [
        {
          "output_type": "stream",
          "text": [
            "[0, 0, 0, 0, 0, 0, 0, 0, 0, 0, 0, 0, 0, 0, 1, 0, 0, 0, 0, 0, 0, 0, 0, 0, 0, 0, 0, 0, 0, 0, 0, 0, 0, 0, 0, 0, 0, 0, 0, 0, 1, 0, 0, 0, 0, 0, 0, 0, 0, 0, 0, 0, 0, 0, 0, 0, 0, 0, 0, 0, 0, 1, 0, 0, 0, 0, 0, 0, 0, 0, 0, 0, 0, 0, 0, 0, 0, 0, 0, 1, 0, 1, 0, 0, 0, 1, 0, 0, 0, 0, 0, 0, 0, 0, 0, 0, 1, 0, 0, 0, 0, 0, 0, 0, 0, 0, 0, 0, 0, 0, 0, 0, 0, 0, 0, 0, 0, 0, 0, 0, 0, 0, 0, 0, 0, 0, 0, 0, 0, 0, 0, 0, 0, 0, 0, 0, 0, 0, 0, 0, 0, 0, 0, 0, 0, 0, 0, 1, 0, 0, 0, 0, 0, 0, 1, 0, 0, 0, 0, 0, 0, 1, 0, 0, 0, 0, 0, 0, 0, 0, 0, 0, 0, 0, 0, 0, 0, 0, 0, 0, 0, 0, 0, 0, 0, 0, 0, 0, 0, 0, 0, 0, 0, 0, 0, 0, 0, 0, 0, 0]\n"
          ],
          "name": "stdout"
        }
      ]
    },
    {
      "cell_type": "code",
      "metadata": {
        "id": "suMU76fRyDkK",
        "colab_type": "code",
        "outputId": "5ed7dd2c-ccd4-49d7-9740-8b4362ee8be6",
        "colab": {
          "base_uri": "https://localhost:8080/",
          "height": 54
        }
      },
      "source": [
        "print(infected_counter)"
      ],
      "execution_count": 1376,
      "outputs": [
        {
          "output_type": "stream",
          "text": [
            "[0, 0, 0, 0, 0, 0, 0, 0, 0, 0, 0, 0, 0, 0, 0, 0, 0, 0, 0, 0, 0, 0, 0, 0, 0, 0, 0, 0, 0, 0, 0, 0, 0, 0, 0, 0, 0, 0, 0, 0, 0, 0, 0, 0, 0, 0, 0, 0, 0, 0, 0, 0, 0, 0, 0, 0, 0, 0, 0, 0, 0, 0, 0, 0, 0, 0, 0, 0, 0, 0, 0, 0, 0, 0, 0, 0, 0, 0, 0, 0, 0, 0, 0, 0, 0, 0, 0, 0, 0, 0, 0, 0, 0, 0, 0, 0, 0, 0, 0, 0, 0, 0, 0, 0, 0, 0, 0, 0, 0, 0, 0, 0, 0, 0, 0, 0, 0, 0, 0, 0, 0, 0, 0, 0, 0, 0, 0, 0, 0, 0, 0, 0, 0, 0, 0, 0, 0, 0, 0, 0, 0, 0, 0, 0, 0, 0, 0, 0, 0, 0, 0, 0, 0, 0, 0, 0, 0, 0, 0, 0, 0, 0, 0, 0, 0, 0, 0, 0, 0, 0, 0, 0, 0, 0, 0, 0, 0, 0, 0, 0, 0, 0, 0, 0, 0, 0, 0, 0, 0, 0, 0, 0, 0, 0, 0, 0, 0, 0, 0, 0]\n"
          ],
          "name": "stdout"
        }
      ]
    },
    {
      "cell_type": "code",
      "metadata": {
        "id": "aL4VORaeOBa6",
        "colab_type": "code",
        "outputId": "0d188177-f96f-468c-f4f2-d99b22691032",
        "colab": {
          "base_uri": "https://localhost:8080/",
          "height": 54
        }
      },
      "source": [
        "print(immune_stat)"
      ],
      "execution_count": 1377,
      "outputs": [
        {
          "output_type": "stream",
          "text": [
            "[0, 0, 0, 0, 0, 0, 0, 0, 0, 0, 0, 0, 0, 0, 0, 0, 0, 0, 0, 0, 0, 0, 0, 0, 0, 0, 0, 0, 0, 0, 0, 0, 0, 0, 0, 0, 0, 0, 0, 0, 0, 0, 0, 0, 0, 0, 0, 0, 0, 0, 0, 0, 0, 0, 0, 0, 0, 0, 0, 0, 0, 0, 0, 0, 0, 0, 0, 0, 0, 0, 0, 0, 0, 0, 0, 0, 0, 0, 0, 0, 0, 0, 0, 0, 0, 0, 0, 0, 0, 0, 0, 0, 0, 0, 0, 0, 0, 0, 0, 0, 0, 0, 0, 0, 0, 0, 0, 0, 0, 0, 0, 0, 0, 0, 0, 0, 0, 0, 0, 0, 0, 0, 0, 0, 0, 0, 0, 0, 0, 0, 0, 0, 0, 0, 0, 0, 0, 0, 0, 0, 0, 0, 0, 0, 0, 0, 0, 0, 0, 0, 0, 0, 0, 0, 0, 0, 0, 0, 0, 0, 0, 0, 0, 0, 0, 0, 0, 0, 0, 0, 0, 0, 0, 0, 0, 0, 0, 0, 0, 0, 0, 0, 0, 0, 0, 0, 0, 0, 0, 0, 0, 0, 0, 0, 0, 0, 0, 0, 0, 0]\n"
          ],
          "name": "stdout"
        }
      ]
    },
    {
      "cell_type": "code",
      "metadata": {
        "id": "MMN45_FczK35",
        "colab_type": "code",
        "outputId": "9fbee112-ddb0-49c5-a54c-daa78e13a961",
        "colab": {
          "base_uri": "https://localhost:8080/",
          "height": 34
        }
      },
      "source": [
        "print(days)"
      ],
      "execution_count": 1378,
      "outputs": [
        {
          "output_type": "stream",
          "text": [
            "0\n"
          ],
          "name": "stdout"
        }
      ]
    },
    {
      "cell_type": "code",
      "metadata": {
        "id": "i3jhapvN227n",
        "colab_type": "code",
        "colab": {}
      },
      "source": [
        "# Update posisi x dan y\n",
        "def update_pos(idv,i):\n",
        "  rand = np.random.uniform(0,1)\n",
        "  #right\n",
        "  if (rand >= 0 and rand <= 0.25) :\n",
        "    idv[i][0] += 1\n",
        "  #down\n",
        "  elif (rand > 0.25 and rand <= 0.50):\n",
        "    idv[i][1] -= 1\n",
        "  #left\n",
        "  elif (rand > 0.50 and rand <= 0.75):\n",
        "    idv[i][0] -= 1\n",
        "  #up\n",
        "  else:\n",
        "    idv[i][1] += 1"
      ],
      "execution_count": 0,
      "outputs": []
    },
    {
      "cell_type": "code",
      "metadata": {
        "id": "HBSOIHY94Yw9",
        "colab_type": "code",
        "colab": {}
      },
      "source": [
        "# Koreksi posisi x dan y menggunakan PBC\n",
        "def pbc(idv,i):\n",
        "  #correction of x axis\n",
        "  if (idv[i][0] >= x_max) :\n",
        "    idv[i][0] -= x_range\n",
        "  if (idv[i][0] <= x_min) :\n",
        "    idv[i][0] += x_range\n",
        "          \n",
        "  #correction of y axis\n",
        "  if (idv[i][1] >= y_max) :\n",
        "    idv[i][1] -= y_range\n",
        "  if (idv[i][1] <= y_min)  :\n",
        "    idv[i][1] += y_range\n",
        "  "
      ],
      "execution_count": 0,
      "outputs": []
    },
    {
      "cell_type": "code",
      "metadata": {
        "id": "InNqyCig1tbh",
        "colab_type": "code",
        "colab": {}
      },
      "source": [
        "# Menghitung posisi individu terinfeksi dengan seluruh individu yang ada\n",
        "def euclidean_distance(idv,i,health_stat, immune_stat):\n",
        "  # Untuk j sebanyak panjang status kesehatan\n",
        "  for j in range(len(health_stat)):\n",
        "    # Jika status kesehatan j sama dengan 1 (mencari individu terinfeksi), maka\n",
        "    if health_stat[j] == 1:\n",
        "      # Rumus euclidean distance sqrt((x1 - x2)^2 - (y1 - y2)^2)\n",
        "      distance = np.sqrt(abs((idv[j][0]-idv[i][0])-(idv[j][1]-idv[j][1])))\n",
        "      # Jika distance sama dengan 0, maka\n",
        "      if distance == 0:\n",
        "        # Jika Status imune ke i tidak sama dengan 1\n",
        "        if immune_stat[i] != 1:\n",
        "          # Status kesehatan sama dengan 1 \n",
        "          health_stat[i] = 1"
      ],
      "execution_count": 0,
      "outputs": []
    },
    {
      "cell_type": "code",
      "metadata": {
        "id": "4l7Bi22KLVWE",
        "colab_type": "code",
        "colab": {}
      },
      "source": [
        "# Menghitung banyak individu terinfeksi\n",
        "def calc_infected_idv(health_stat):\n",
        "  count = 0\n",
        "  # Untuk i sebanyak panjang status kesehatan\n",
        "  for i in range(len(health_stat)):\n",
        "    # Jika status kesehatan ke i sama dengan 1, maka\n",
        "    if health_stat[i] == 1:\n",
        "      # Count ditambah dengan 1\n",
        "      count+=1\n",
        "  return count"
      ],
      "execution_count": 0,
      "outputs": []
    },
    {
      "cell_type": "code",
      "metadata": {
        "id": "bs9cTifl1-ZD",
        "colab_type": "code",
        "colab": {}
      },
      "source": [
        "# Iteration\n",
        "# Selama jumlah individu terinfeksi > 0\n",
        "while (calc_infected_idv(health_stat)) > 0:\n",
        "  \n",
        "  # Setiap iterasi menambah jumlah hari dengan 1\n",
        "  days += 1\n",
        "\n",
        "  # Melakukan append hari ke list time\n",
        "  time.append(days)\n",
        "\n",
        "  # Melakukan append jumlah individdu terinfeksi ke list positive_idv\n",
        "  positive_idv.append(calc_infected_idv(health_stat))\n",
        "\n",
        "  #Untuk setiap individu:\n",
        "  for i in range (n_individu):\n",
        "\n",
        "    #melakukan random untuk ismove\n",
        "    ismove = np.random.uniform(0,1)\n",
        "\n",
        "    # Jika kurang dari probabilitas bergerak lakukan\n",
        "    if ismove < movement_prob:\n",
        "\n",
        "      # Memanggil prosedur update posisi\n",
        "      update_pos(idv,i)\n",
        "\n",
        "      # Memanggil prosedur PBC\n",
        "      pbc(idv,i)\n",
        "\n",
        "      # Memeriksa apakah partikel ke i infected\n",
        "      if health_stat[i] == 1:\n",
        "\n",
        "        # Menambah hari terinfeksi\n",
        "        infected_counter[i] += 1\n",
        "        \n",
        "        # Jika waktu terinfeksi ke i lebih dari waktu pemulihan maka\n",
        "        if (infected_counter[i]) > healing_days:\n",
        "          \n",
        "          # Update status kesehatan ke i menjadi 0\n",
        "          health_stat[i] = 0\n",
        "          \n",
        "          # update status immune ke i menajdi 1\n",
        "          immune_stat[i] = 1\n",
        "      \n",
        "      # Memanggil prosedur euclidean_distance\n",
        "      euclidean_distance(idv, i, health_stat, immune_stat)"
      ],
      "execution_count": 0,
      "outputs": []
    },
    {
      "cell_type": "code",
      "metadata": {
        "id": "KvcQc5c6Rh2m",
        "colab_type": "code",
        "outputId": "33367162-ac00-4a34-a3ff-c30e08c8e48b",
        "colab": {
          "base_uri": "https://localhost:8080/",
          "height": 34
        }
      },
      "source": [
        "print(time)"
      ],
      "execution_count": 1384,
      "outputs": [
        {
          "output_type": "stream",
          "text": [
            "[1, 2, 3, 4, 5, 6, 7, 8, 9, 10, 11, 12, 13, 14, 15, 16, 17, 18, 19, 20, 21, 22, 23]\n"
          ],
          "name": "stdout"
        }
      ]
    },
    {
      "cell_type": "code",
      "metadata": {
        "id": "56MZs7BdRktW",
        "colab_type": "code",
        "outputId": "0b8c640d-1588-4272-a0a7-bca5506ff6a3",
        "colab": {
          "base_uri": "https://localhost:8080/",
          "height": 34
        }
      },
      "source": [
        "print(positive_idv)"
      ],
      "execution_count": 1385,
      "outputs": [
        {
          "output_type": "stream",
          "text": [
            "[10, 79, 129, 170, 188, 199, 200, 200, 200, 200, 200, 199, 192, 171, 143, 105, 77, 49, 29, 12, 6, 3, 1]\n"
          ],
          "name": "stdout"
        }
      ]
    },
    {
      "cell_type": "code",
      "metadata": {
        "id": "2qhQOpxYcu6U",
        "colab_type": "code",
        "outputId": "521f9a02-3c8a-4e41-cb3b-f3ad83a7ac8b",
        "colab": {
          "base_uri": "https://localhost:8080/",
          "height": 542
        }
      },
      "source": [
        "fig = go.Figure()\n",
        "fig.add_trace(go.Scatter(x = time, y = positive_idv, mode='lines+markers'))\n",
        "fig.update_layout(title = 'Pandemic Progression', xaxis_title = 'Days', yaxis_title = 'Number of infected people')\n",
        "fig.show()"
      ],
      "execution_count": 1386,
      "outputs": [
        {
          "output_type": "display_data",
          "data": {
            "text/html": [
              "<html>\n",
              "<head><meta charset=\"utf-8\" /></head>\n",
              "<body>\n",
              "    <div>\n",
              "            <script src=\"https://cdnjs.cloudflare.com/ajax/libs/mathjax/2.7.5/MathJax.js?config=TeX-AMS-MML_SVG\"></script><script type=\"text/javascript\">if (window.MathJax) {MathJax.Hub.Config({SVG: {font: \"STIX-Web\"}});}</script>\n",
              "                <script type=\"text/javascript\">window.PlotlyConfig = {MathJaxConfig: 'local'};</script>\n",
              "        <script src=\"https://cdn.plot.ly/plotly-latest.min.js\"></script>    \n",
              "            <div id=\"e7b21341-8dd3-4d91-a2e8-bf12c04163d5\" class=\"plotly-graph-div\" style=\"height:525px; width:100%;\"></div>\n",
              "            <script type=\"text/javascript\">\n",
              "                \n",
              "                    window.PLOTLYENV=window.PLOTLYENV || {};\n",
              "                    \n",
              "                if (document.getElementById(\"e7b21341-8dd3-4d91-a2e8-bf12c04163d5\")) {\n",
              "                    Plotly.newPlot(\n",
              "                        'e7b21341-8dd3-4d91-a2e8-bf12c04163d5',\n",
              "                        [{\"mode\": \"lines+markers\", \"type\": \"scatter\", \"x\": [1, 2, 3, 4, 5, 6, 7, 8, 9, 10, 11, 12, 13, 14, 15, 16, 17, 18, 19, 20, 21, 22, 23], \"y\": [10, 79, 129, 170, 188, 199, 200, 200, 200, 200, 200, 199, 192, 171, 143, 105, 77, 49, 29, 12, 6, 3, 1]}],\n",
              "                        {\"template\": {\"data\": {\"bar\": [{\"error_x\": {\"color\": \"#2a3f5f\"}, \"error_y\": {\"color\": \"#2a3f5f\"}, \"marker\": {\"line\": {\"color\": \"#E5ECF6\", \"width\": 0.5}}, \"type\": \"bar\"}], \"barpolar\": [{\"marker\": {\"line\": {\"color\": \"#E5ECF6\", \"width\": 0.5}}, \"type\": \"barpolar\"}], \"carpet\": [{\"aaxis\": {\"endlinecolor\": \"#2a3f5f\", \"gridcolor\": \"white\", \"linecolor\": \"white\", \"minorgridcolor\": \"white\", \"startlinecolor\": \"#2a3f5f\"}, \"baxis\": {\"endlinecolor\": \"#2a3f5f\", \"gridcolor\": \"white\", \"linecolor\": \"white\", \"minorgridcolor\": \"white\", \"startlinecolor\": \"#2a3f5f\"}, \"type\": \"carpet\"}], \"choropleth\": [{\"colorbar\": {\"outlinewidth\": 0, \"ticks\": \"\"}, \"type\": \"choropleth\"}], \"contour\": [{\"colorbar\": {\"outlinewidth\": 0, \"ticks\": \"\"}, \"colorscale\": [[0.0, \"#0d0887\"], [0.1111111111111111, \"#46039f\"], [0.2222222222222222, \"#7201a8\"], [0.3333333333333333, \"#9c179e\"], [0.4444444444444444, \"#bd3786\"], [0.5555555555555556, \"#d8576b\"], [0.6666666666666666, \"#ed7953\"], [0.7777777777777778, \"#fb9f3a\"], [0.8888888888888888, \"#fdca26\"], [1.0, \"#f0f921\"]], \"type\": \"contour\"}], \"contourcarpet\": [{\"colorbar\": {\"outlinewidth\": 0, \"ticks\": \"\"}, \"type\": \"contourcarpet\"}], \"heatmap\": [{\"colorbar\": {\"outlinewidth\": 0, \"ticks\": \"\"}, \"colorscale\": [[0.0, \"#0d0887\"], [0.1111111111111111, \"#46039f\"], [0.2222222222222222, \"#7201a8\"], [0.3333333333333333, \"#9c179e\"], [0.4444444444444444, \"#bd3786\"], [0.5555555555555556, \"#d8576b\"], [0.6666666666666666, \"#ed7953\"], [0.7777777777777778, \"#fb9f3a\"], [0.8888888888888888, \"#fdca26\"], [1.0, \"#f0f921\"]], \"type\": \"heatmap\"}], \"heatmapgl\": [{\"colorbar\": {\"outlinewidth\": 0, \"ticks\": \"\"}, \"colorscale\": [[0.0, \"#0d0887\"], [0.1111111111111111, \"#46039f\"], [0.2222222222222222, \"#7201a8\"], [0.3333333333333333, \"#9c179e\"], [0.4444444444444444, \"#bd3786\"], [0.5555555555555556, \"#d8576b\"], [0.6666666666666666, \"#ed7953\"], [0.7777777777777778, \"#fb9f3a\"], [0.8888888888888888, \"#fdca26\"], [1.0, \"#f0f921\"]], \"type\": \"heatmapgl\"}], \"histogram\": [{\"marker\": {\"colorbar\": {\"outlinewidth\": 0, \"ticks\": \"\"}}, \"type\": \"histogram\"}], \"histogram2d\": [{\"colorbar\": {\"outlinewidth\": 0, \"ticks\": \"\"}, \"colorscale\": [[0.0, \"#0d0887\"], [0.1111111111111111, \"#46039f\"], [0.2222222222222222, \"#7201a8\"], [0.3333333333333333, \"#9c179e\"], [0.4444444444444444, \"#bd3786\"], [0.5555555555555556, \"#d8576b\"], [0.6666666666666666, \"#ed7953\"], [0.7777777777777778, \"#fb9f3a\"], [0.8888888888888888, \"#fdca26\"], [1.0, \"#f0f921\"]], \"type\": \"histogram2d\"}], \"histogram2dcontour\": [{\"colorbar\": {\"outlinewidth\": 0, \"ticks\": \"\"}, \"colorscale\": [[0.0, \"#0d0887\"], [0.1111111111111111, \"#46039f\"], [0.2222222222222222, \"#7201a8\"], [0.3333333333333333, \"#9c179e\"], [0.4444444444444444, \"#bd3786\"], [0.5555555555555556, \"#d8576b\"], [0.6666666666666666, \"#ed7953\"], [0.7777777777777778, \"#fb9f3a\"], [0.8888888888888888, \"#fdca26\"], [1.0, \"#f0f921\"]], \"type\": \"histogram2dcontour\"}], \"mesh3d\": [{\"colorbar\": {\"outlinewidth\": 0, \"ticks\": \"\"}, \"type\": \"mesh3d\"}], \"parcoords\": [{\"line\": {\"colorbar\": {\"outlinewidth\": 0, \"ticks\": \"\"}}, \"type\": \"parcoords\"}], \"pie\": [{\"automargin\": true, \"type\": \"pie\"}], \"scatter\": [{\"marker\": {\"colorbar\": {\"outlinewidth\": 0, \"ticks\": \"\"}}, \"type\": \"scatter\"}], \"scatter3d\": [{\"line\": {\"colorbar\": {\"outlinewidth\": 0, \"ticks\": \"\"}}, \"marker\": {\"colorbar\": {\"outlinewidth\": 0, \"ticks\": \"\"}}, \"type\": \"scatter3d\"}], \"scattercarpet\": [{\"marker\": {\"colorbar\": {\"outlinewidth\": 0, \"ticks\": \"\"}}, \"type\": \"scattercarpet\"}], \"scattergeo\": [{\"marker\": {\"colorbar\": {\"outlinewidth\": 0, \"ticks\": \"\"}}, \"type\": \"scattergeo\"}], \"scattergl\": [{\"marker\": {\"colorbar\": {\"outlinewidth\": 0, \"ticks\": \"\"}}, \"type\": \"scattergl\"}], \"scattermapbox\": [{\"marker\": {\"colorbar\": {\"outlinewidth\": 0, \"ticks\": \"\"}}, \"type\": \"scattermapbox\"}], \"scatterpolar\": [{\"marker\": {\"colorbar\": {\"outlinewidth\": 0, \"ticks\": \"\"}}, \"type\": \"scatterpolar\"}], \"scatterpolargl\": [{\"marker\": {\"colorbar\": {\"outlinewidth\": 0, \"ticks\": \"\"}}, \"type\": \"scatterpolargl\"}], \"scatterternary\": [{\"marker\": {\"colorbar\": {\"outlinewidth\": 0, \"ticks\": \"\"}}, \"type\": \"scatterternary\"}], \"surface\": [{\"colorbar\": {\"outlinewidth\": 0, \"ticks\": \"\"}, \"colorscale\": [[0.0, \"#0d0887\"], [0.1111111111111111, \"#46039f\"], [0.2222222222222222, \"#7201a8\"], [0.3333333333333333, \"#9c179e\"], [0.4444444444444444, \"#bd3786\"], [0.5555555555555556, \"#d8576b\"], [0.6666666666666666, \"#ed7953\"], [0.7777777777777778, \"#fb9f3a\"], [0.8888888888888888, \"#fdca26\"], [1.0, \"#f0f921\"]], \"type\": \"surface\"}], \"table\": [{\"cells\": {\"fill\": {\"color\": \"#EBF0F8\"}, \"line\": {\"color\": \"white\"}}, \"header\": {\"fill\": {\"color\": \"#C8D4E3\"}, \"line\": {\"color\": \"white\"}}, \"type\": \"table\"}]}, \"layout\": {\"annotationdefaults\": {\"arrowcolor\": \"#2a3f5f\", \"arrowhead\": 0, \"arrowwidth\": 1}, \"coloraxis\": {\"colorbar\": {\"outlinewidth\": 0, \"ticks\": \"\"}}, \"colorscale\": {\"diverging\": [[0, \"#8e0152\"], [0.1, \"#c51b7d\"], [0.2, \"#de77ae\"], [0.3, \"#f1b6da\"], [0.4, \"#fde0ef\"], [0.5, \"#f7f7f7\"], [0.6, \"#e6f5d0\"], [0.7, \"#b8e186\"], [0.8, \"#7fbc41\"], [0.9, \"#4d9221\"], [1, \"#276419\"]], \"sequential\": [[0.0, \"#0d0887\"], [0.1111111111111111, \"#46039f\"], [0.2222222222222222, \"#7201a8\"], [0.3333333333333333, \"#9c179e\"], [0.4444444444444444, \"#bd3786\"], [0.5555555555555556, \"#d8576b\"], [0.6666666666666666, \"#ed7953\"], [0.7777777777777778, \"#fb9f3a\"], [0.8888888888888888, \"#fdca26\"], [1.0, \"#f0f921\"]], \"sequentialminus\": [[0.0, \"#0d0887\"], [0.1111111111111111, \"#46039f\"], [0.2222222222222222, \"#7201a8\"], [0.3333333333333333, \"#9c179e\"], [0.4444444444444444, \"#bd3786\"], [0.5555555555555556, \"#d8576b\"], [0.6666666666666666, \"#ed7953\"], [0.7777777777777778, \"#fb9f3a\"], [0.8888888888888888, \"#fdca26\"], [1.0, \"#f0f921\"]]}, \"colorway\": [\"#636efa\", \"#EF553B\", \"#00cc96\", \"#ab63fa\", \"#FFA15A\", \"#19d3f3\", \"#FF6692\", \"#B6E880\", \"#FF97FF\", \"#FECB52\"], \"font\": {\"color\": \"#2a3f5f\"}, \"geo\": {\"bgcolor\": \"white\", \"lakecolor\": \"white\", \"landcolor\": \"#E5ECF6\", \"showlakes\": true, \"showland\": true, \"subunitcolor\": \"white\"}, \"hoverlabel\": {\"align\": \"left\"}, \"hovermode\": \"closest\", \"mapbox\": {\"style\": \"light\"}, \"paper_bgcolor\": \"white\", \"plot_bgcolor\": \"#E5ECF6\", \"polar\": {\"angularaxis\": {\"gridcolor\": \"white\", \"linecolor\": \"white\", \"ticks\": \"\"}, \"bgcolor\": \"#E5ECF6\", \"radialaxis\": {\"gridcolor\": \"white\", \"linecolor\": \"white\", \"ticks\": \"\"}}, \"scene\": {\"xaxis\": {\"backgroundcolor\": \"#E5ECF6\", \"gridcolor\": \"white\", \"gridwidth\": 2, \"linecolor\": \"white\", \"showbackground\": true, \"ticks\": \"\", \"zerolinecolor\": \"white\"}, \"yaxis\": {\"backgroundcolor\": \"#E5ECF6\", \"gridcolor\": \"white\", \"gridwidth\": 2, \"linecolor\": \"white\", \"showbackground\": true, \"ticks\": \"\", \"zerolinecolor\": \"white\"}, \"zaxis\": {\"backgroundcolor\": \"#E5ECF6\", \"gridcolor\": \"white\", \"gridwidth\": 2, \"linecolor\": \"white\", \"showbackground\": true, \"ticks\": \"\", \"zerolinecolor\": \"white\"}}, \"shapedefaults\": {\"line\": {\"color\": \"#2a3f5f\"}}, \"ternary\": {\"aaxis\": {\"gridcolor\": \"white\", \"linecolor\": \"white\", \"ticks\": \"\"}, \"baxis\": {\"gridcolor\": \"white\", \"linecolor\": \"white\", \"ticks\": \"\"}, \"bgcolor\": \"#E5ECF6\", \"caxis\": {\"gridcolor\": \"white\", \"linecolor\": \"white\", \"ticks\": \"\"}}, \"title\": {\"x\": 0.05}, \"xaxis\": {\"automargin\": true, \"gridcolor\": \"white\", \"linecolor\": \"white\", \"ticks\": \"\", \"title\": {\"standoff\": 15}, \"zerolinecolor\": \"white\", \"zerolinewidth\": 2}, \"yaxis\": {\"automargin\": true, \"gridcolor\": \"white\", \"linecolor\": \"white\", \"ticks\": \"\", \"title\": {\"standoff\": 15}, \"zerolinecolor\": \"white\", \"zerolinewidth\": 2}}}, \"title\": {\"text\": \"Pandemic Progression\"}, \"xaxis\": {\"title\": {\"text\": \"Days\"}}, \"yaxis\": {\"title\": {\"text\": \"Number of infected people\"}}},\n",
              "                        {\"responsive\": true}\n",
              "                    ).then(function(){\n",
              "                            \n",
              "var gd = document.getElementById('e7b21341-8dd3-4d91-a2e8-bf12c04163d5');\n",
              "var x = new MutationObserver(function (mutations, observer) {{\n",
              "        var display = window.getComputedStyle(gd).display;\n",
              "        if (!display || display === 'none') {{\n",
              "            console.log([gd, 'removed!']);\n",
              "            Plotly.purge(gd);\n",
              "            observer.disconnect();\n",
              "        }}\n",
              "}});\n",
              "\n",
              "// Listen for the removal of the full notebook cells\n",
              "var notebookContainer = gd.closest('#notebook-container');\n",
              "if (notebookContainer) {{\n",
              "    x.observe(notebookContainer, {childList: true});\n",
              "}}\n",
              "\n",
              "// Listen for the clearing of the current output cell\n",
              "var outputEl = gd.closest('.output');\n",
              "if (outputEl) {{\n",
              "    x.observe(outputEl, {childList: true});\n",
              "}}\n",
              "\n",
              "                        })\n",
              "                };\n",
              "                \n",
              "            </script>\n",
              "        </div>\n",
              "</body>\n",
              "</html>"
            ]
          },
          "metadata": {
            "tags": []
          }
        }
      ]
    }
  ]
}